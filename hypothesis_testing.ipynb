{
 "cells": [
  {
   "cell_type": "markdown",
   "metadata": {},
   "source": [
    "## Exercises\n",
    "\n",
    "For each of the following questions, formulate a null and alternative hypothesis (be as specific as you can be), then give an example of what a true positive, true negative, type I and type II errors would look like. Note that some of the questions are intentionally phrased in a vague way. It is your job to reword these as more precise questions that could be tested.\n",
    "\n",
    "\n"
   ]
  },
  {
   "cell_type": "markdown",
   "metadata": {},
   "source": []
  },
  {
   "cell_type": "markdown",
   "metadata": {},
   "source": [
    "Things to ask\n",
    "- do I need to reword the question?\n",
    "- what are the variables?\n",
    "- what type are the variables?\n",
    "- formulate null hypothesis\n",
    "- formulate alt hypothesis\n",
    "- example of True Positive\n",
    "- example of True Negative\n",
    "- example of Type 1 error (False Positive)\n",
    "- example of Type 2 error (False Negative)\n",
    "- what type of tests should I run?"
   ]
  },
  {
   "cell_type": "markdown",
   "metadata": {},
   "source": [
    "Has the network latency gone up since we switched internet service providers?"
   ]
  },
  {
   "cell_type": "markdown",
   "metadata": {},
   "source": [
    "1.) Formulate a null hypothesis: There is no significant increase in network latency after changing providers.\n",
    "\n",
    "\n",
    "variable:\n",
    "\n",
    "- old_isp\n",
    "- new_isp\n",
    "- latency\n",
    "\n",
    "2.) alternative hypothesis: There is a significant increase in network latency after changing newtwork providers.\n",
    "\n",
    "3.) example of true positive: There is a significant increase in network latency after changing providers\n",
    "- reject the null, H0 = False\n",
    "\n",
    "4.) example of true negative: There is no significant increase in network latency after changing providers\n",
    " - accept the null, H0 = TRUE\n",
    " \n",
    " \n",
    "5.) type I and type II errors would look like?\n",
    "\n",
    "- Type 1: In type 1 we rejected the null hypothesis but the data indicates that there is no increase in network latency after switching to new provider. \n",
    "\n",
    "\n",
    "- Type II: In type 2 we accepted the null hypothesis but the data indicates that in fact there is a increase in network latency after switching to new provider.\n",
    "\n",
    "\n"
   ]
  },
  {
   "cell_type": "markdown",
   "metadata": {},
   "source": [
    "### Is the website redesign any good?"
   ]
  },
  {
   "cell_type": "markdown",
   "metadata": {},
   "source": [
    "1.) Formulate a null hypothesis: there is no significant increase in website activity since the redesigned website was implemented.\n",
    "\n",
    "\n",
    "variables:\n",
    "- old website = categorical/continious\n",
    "- new_website = cetgorical/discrete\n",
    "\n",
    "2.) alternative hypothesis: there is a significant increase in website activity since the redesigned website was implemented.\n",
    "\n",
    "3.) example of true positive: There is a significant increase in website activity since redesign.\n",
    "- reject the null, H0 = False\n",
    "\n",
    "4.) example of true negative: There is no significant increase in network latency after changing providers\n",
    " - accept the null, H0 = TRUE\n",
    " \n",
    "5.) type I and type II errors would look like?\n",
    "\n",
    "Type 1: \n",
    "- In type 1 we rejected the null hypothesis: there is no significant increase in website activity for the redesigned website but the data indicates that there is no significant increase in web activity since the website was redesigned.\n",
    "\n",
    "Type II: \n",
    "- In type 2 we accepted the null hypothesis: there is no significant increase in website activity for the redisgned website but the data indicates that there is no significnt increase in web activity since the redesign.\n",
    "\n"
   ]
  },
  {
   "cell_type": "code",
   "execution_count": null,
   "metadata": {},
   "outputs": [],
   "source": []
  },
  {
   "cell_type": "code",
   "execution_count": null,
   "metadata": {},
   "outputs": [],
   "source": []
  },
  {
   "cell_type": "markdown",
   "metadata": {},
   "source": [
    "### Is our television ad driving more sales?"
   ]
  },
  {
   "cell_type": "markdown",
   "metadata": {},
   "source": [
    "\n",
    "\n",
    "1.) Formulate a null hypothesis: the television ad has resulted in no significant increase in sales since it was implemented.\n",
    "\n",
    "Variables:\n",
    "sales_before\n",
    "sales_after\n",
    "\n",
    "2.) alternative hypothesis: the television ad has resulted in a significant increase in sales since it was implemented.\n",
    "\n",
    "3.) example of true positive: There is a significant increase sales since the ad started playing.\n",
    "- reject the null, H0 = False\n",
    "\n",
    "4.) example of true negative: There is no significant increase in sales since the ad started playing\n",
    " - accept the null, H0 = TRUE\n",
    " \n",
    "5.) type I and type II errors would look like?\n",
    "\n",
    "Type 1: In type 1 we rejected the null hypothesis but the data indicates that there is a significnt increase in web activity.\n",
    "\n",
    "Type II: In type 2 we accepted the null hypothesis,  but the data indicates that there is no significnt increase in web activity.\n",
    "\n"
   ]
  },
  {
   "cell_type": "markdown",
   "metadata": {},
   "source": [
    "# Looking at the Teleco Database in Sequel"
   ]
  }
 ],
 "metadata": {
  "kernelspec": {
   "display_name": "Python 3",
   "language": "python",
   "name": "python3"
  },
  "language_info": {
   "codemirror_mode": {
    "name": "ipython",
    "version": 3
   },
   "file_extension": ".py",
   "mimetype": "text/x-python",
   "name": "python",
   "nbconvert_exporter": "python",
   "pygments_lexer": "ipython3",
   "version": "3.8.5"
  }
 },
 "nbformat": 4,
 "nbformat_minor": 4
}
